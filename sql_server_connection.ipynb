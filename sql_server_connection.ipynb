{
 "cells": [
  {
   "cell_type": "code",
   "execution_count": 105,
   "id": "b6febc36",
   "metadata": {},
   "outputs": [],
   "source": [
    "import  pandas as pd \n",
    "import plotly.express as px\n",
    "import mysql.connector as sql \n",
    "import  numpy as np \n",
    "mydb = sql.connect( \n",
    "    host = \"bhvnerp.com\",\n",
    "    user = 'bhvnerp_hasnain',\n",
    "    passwd = \"9juM^qVVaSb}\",\n",
    "    database = 'bhvnerp_bhv2019'\n",
    ")\n",
    "purch = pd.read_sql_query(\"SELECT * FROM Purchase_db\", mydb)"
   ]
  },
  {
   "cell_type": "code",
   "execution_count": null,
   "id": "499d6e99",
   "metadata": {},
   "outputs": [],
   "source": [
    "login : vts.sa, LuaThieng1@3 , Paradise_BLH "
   ]
  }
 ],
 "metadata": {
  "hide_input": false,
  "kernelspec": {
   "display_name": "Python 3",
   "language": "python",
   "name": "python3"
  },
  "language_info": {
   "codemirror_mode": {
    "name": "ipython",
    "version": 3
   },
   "file_extension": ".py",
   "mimetype": "text/x-python",
   "name": "python",
   "nbconvert_exporter": "python",
   "pygments_lexer": "ipython3",
   "version": "3.7.6"
  }
 },
 "nbformat": 4,
 "nbformat_minor": 5
}
