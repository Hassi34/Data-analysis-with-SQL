{
 "cells": [
  {
   "cell_type": "code",
   "execution_count": null,
   "metadata": {},
   "outputs": [],
   "source": [
    "import mysql.connector as connection\n",
    "mydb = connection.connect(user = 'root', password='hassi',\n",
    "                              host='127.0.0.1'\n",
    "                        )# check if the connection is established\n",
    "query = \"SHOW DATABASES\"\n",
    "cursor = mydb.cursor() #create a cursor to execute queries\n",
    "cursor.execute(query)\n",
    "cursor.fetchall()"
   ]
  },
  {
   "cell_type": "code",
   "execution_count": null,
   "metadata": {},
   "outputs": [],
   "source": [
    "import mysql.connector as connection\n",
    "mydb = connection.connect(host=\"localhost\", user=\"root\", passwd=\"hassi\",use_pure=True)\n",
    "# check if the connection is established\n",
    "print(mydb.is_connected())\n",
    "query = \"Create database Student234;\"\n",
    "cursor = mydb.cursor() #create a cursor to execute queries\n",
    "cursor.execute(query)\n",
    "print(\"Database Created!!\")\n",
    "mydb.close()\n"
   ]
  },
  {
   "cell_type": "code",
   "execution_count": null,
   "metadata": {},
   "outputs": [],
   "source": [
    "import mysql.connector as connection\n",
    "\n",
    "mydb = connection.connect(host=\"localhost\", database = 'Student234',user=\"root\", passwd=\"hassi\",use_pure=True)\n",
    "# check if the connection is established\n",
    "print(mydb.is_connected())\n",
    "\n",
    "query = \"CREATE TABLE test (Studentid INT(10) AUTO_INCREMENT PRIMARY KEY,FirstName VARCHAR(60),\" \\\n",
    "        \"LastName VARCHAR(60), RegistrationDate DATE,Class Varchar(20), Section Varchar(10))\"\n",
    "\n",
    "cursor = mydb.cursor() #create a cursor to execute queries\n",
    "cursor.execute(query)\n",
    "print(\"Table Created!!\")\n",
    "mydb.close()"
   ]
  },
  {
   "cell_type": "code",
   "execution_count": null,
   "metadata": {},
   "outputs": [],
   "source": [
    "mydb = connection.connect(host=\"localhost\", database = 'Student234',user=\"root\", passwd=\"hassi\",use_pure=True)\n",
    "cur = mydb.cursor()\n",
    "#cur.execute(\"create table test3(x1 INT(5) , x2 VARCHAR(20) ,x3 DATE)\")"
   ]
  },
  {
   "cell_type": "code",
   "execution_count": null,
   "metadata": {},
   "outputs": [],
   "source": [
    "cur = mydb.cursor()"
   ]
  },
  {
   "cell_type": "code",
   "execution_count": null,
   "metadata": {},
   "outputs": [],
   "source": [
    "cur.execute(\"insert into test3 values(4564,'sudh' , '2021-05-15')\") #yyyy-mm-dd"
   ]
  },
  {
   "cell_type": "code",
   "execution_count": null,
   "metadata": {},
   "outputs": [],
   "source": [
    "mydb.commit()"
   ]
  },
  {
   "cell_type": "code",
   "execution_count": null,
   "metadata": {},
   "outputs": [],
   "source": [
    "cur.execute(\"create table test1(x1 INT(5) , x2 VARCHAR(20) ,x3 DATE)\")"
   ]
  },
  {
   "cell_type": "code",
   "execution_count": null,
   "metadata": {},
   "outputs": [],
   "source": [
    "cur = mydb.cursor()"
   ]
  },
  {
   "cell_type": "code",
   "execution_count": null,
   "metadata": {},
   "outputs": [],
   "source": [
    "mydb = connection.connect(host=\"localhost\", database = 'Student234',user=\"root\", passwd=\"hassi\",use_pure=True)\n",
    "cur = mydb.cursor()"
   ]
  },
  {
   "cell_type": "code",
   "execution_count": null,
   "metadata": {},
   "outputs": [],
   "source": [
    "cur.execute(\"insert into test1 values(4545,'hassi' , '2021-05-15')\")"
   ]
  },
  {
   "cell_type": "code",
   "execution_count": null,
   "metadata": {},
   "outputs": [],
   "source": [
    "cur.execute(\"insert into test1 values(4545,'sudhdfgd' , '2021-05-15')\")\n",
    "cur.execute(\"insert into test1 values(4545,'sudhdfgd' , '2021-05-15')\")\n",
    "cur.execute(\"insert into test1 values(4545,'sudhdfgd' , '2021-05-15')\")\n",
    "cur.execute(\"insert into test1 values(4545,'sudhdfgd' , '2021-05-15')\")\n",
    "cur.execute(\"insert into test1 values(4545,'sudhdfgd' , '2021-05-15')\")\n",
    "cur.execute(\"insert into test1 values(4545,'sudhdfgd' , '2021-05-15')\")\n",
    "cur.execute(\"insert into test1 values(4545,'sudhdfgd' , '2021-05-15')\")\n",
    "cur.execute(\"insert into test1 values(4545,'sudhdfgd' , '2021-05-15')\")\n",
    "cur.execute(\"insert into test1 values(4545,'sudhdfgd' , '2021-05-15')\")\n",
    "cur.execute(\"insert into test1 values(4545,'sudhdfgd' , '2021-05-15')\")\n",
    "cur.execute(\"insert into test1 values(4545,'sudhdfgd' , '2021-05-15')\")\n",
    "cur.execute(\"insert into test1 values(4545,'sudhdfgd' , '2021-05-15')\")\n",
    "cur.execute(\"insert into test1 values(4545,'sudhdfgd' , '2021-05-15')\")\n",
    "cur.execute(\"insert into test1 values(4545,'sudhdfgd' , '2021-05-15')\")\n",
    "cur.execute(\"insert into test1 values(4545,'sudhdfgd' , '2021-05-15')\")\n",
    "cur.execute(\"insert into test1 values(4545,'sudhdfgd' , '2021-05-15')\")\n",
    "cur.execute(\"insert into test1 values(4545,'sudhdfgd' , '2021-05-15')\")\n",
    "cur.execute(\"insert into test1 values(4545,'sudhdfgd' , '2021-05-15')\")\n",
    "cur.execute(\"insert into test1 values(4545,'sudhdfgd' , '2021-05-15')\")\n",
    "cur.execute(\"insert into test1 values(4545,'sudhdfgd' , '2021-05-15')\")\n",
    "cur.execute(\"insert into test1 values(4545,'sudhdfgd' , '2021-05-15')\")\n",
    "cur.execute(\"insert into test1 values(4545,'sudhdfgd' , '2021-05-15')\")\n",
    "cur.execute(\"insert into test1 values(4545,'sudhdfgd' , '2021-05-15')\")\n",
    "cur.execute(\"insert into test1 values(4545,'sudhdfgd' , '2021-05-15')\")\n",
    "cur.execute(\"insert into test1 values(4545,'sudhdfgd' , '2021-05-15')\")\n",
    "cur.execute(\"insert into test1 values(4545,'sudhdfgd' , '2021-05-15')\")\n",
    "cur.execute(\"insert into test1 values(4545,'sudhdfgd' , '2021-05-15')\")\n",
    "cur.execute(\"insert into test1 values(4545,'sudhdfgd' , '2021-05-15')\")\n",
    "cur.execute(\"insert into test1 values(4545,'sudhdfgd' , '2021-05-15')\")\n",
    "cur.execute(\"insert into test1 values(4545,'sudhdfgd' , '2021-05-15')\")\n",
    "cur.execute(\"insert into test1 values(4545,'sudhdfgd' , '2021-05-15')\")\n",
    "cur.execute(\"insert into test1 values(4545,'sudhdfgd' , '2021-05-15')\")\n",
    "cur.execute(\"insert into test1 values(4545,'sudhdfgd' , '2021-05-15')\")\n",
    "cur.execute(\"insert into test1 values(4545,'sudhdfgd' , '2021-05-15')\")\n",
    "cur.execute(\"insert into test1 values(4545,'sudhdfgd' , '2021-05-15')\")\n",
    "#cur.execute(\"select * from student234.test1;\")"
   ]
  },
  {
   "cell_type": "code",
   "execution_count": null,
   "metadata": {},
   "outputs": [],
   "source": [
    "mydb.commit()"
   ]
  },
  {
   "cell_type": "code",
   "execution_count": null,
   "metadata": {},
   "outputs": [],
   "source": [
    "mydb.close()"
   ]
  },
  {
   "cell_type": "code",
   "execution_count": null,
   "metadata": {},
   "outputs": [],
   "source": [
    "mydb.is_connected()"
   ]
  },
  {
   "cell_type": "code",
   "execution_count": null,
   "metadata": {},
   "outputs": [],
   "source": [
    "cur.execute(\"DELETE FROM student234.test1 WHERE x2 ='sudhdfgd'\")"
   ]
  },
  {
   "cell_type": "code",
   "execution_count": null,
   "metadata": {},
   "outputs": [],
   "source": [
    "mydb.commit()"
   ]
  },
  {
   "cell_type": "code",
   "execution_count": null,
   "metadata": {
    "scrolled": true
   },
   "outputs": [],
   "source": [
    "import mysql.connector as connection\n",
    "mydb = connection.connect(host=\"localhost\", user=\"root\", passwd=\"hassi\",use_pure=True)\n",
    "# check if the connection is established\n",
    "print(mydb.is_connected())\n",
    "query = \"Create database inu_data;\"\n",
    "cursor = mydb.cursor() #create a cursor to execute queries\n",
    "cursor.execute(query)\n",
    "print(\"Database Created!!\")\n",
    "mydb.close()"
   ]
  },
  {
   "cell_type": "code",
   "execution_count": null,
   "metadata": {},
   "outputs": [],
   "source": [
    "mydb = connection.connect(host=\"localhost\", user=\"root\", passwd=\"hassi\",use_pure=True)"
   ]
  },
  {
   "cell_type": "code",
   "execution_count": null,
   "metadata": {
    "scrolled": true
   },
   "outputs": [],
   "source": [
    "#cursor = mydb.cursor()\n",
    "#cursor.execute(\"SHOW DATABASES\")\n",
    "cursor.fetchall()"
   ]
  },
  {
   "cell_type": "code",
   "execution_count": null,
   "metadata": {},
   "outputs": [],
   "source": [
    "cursor.execute(\"CREATE TABLE inu_data.Glass_Data(Index_Number INT(10),RI float(10,5),Na float(10,5),Mg float(10,5),Al float(10,5),\"\\\n",
    "              \"Si float(10,5), K float(10,5), Ca float(10,5), Ba float(10,5), Fe float(10,5), Class INT(5))\")"
   ]
  },
  {
   "cell_type": "code",
   "execution_count": null,
   "metadata": {},
   "outputs": [],
   "source": [
    "cursor.execute(\"SELECT * FROM inu_data.Glass_Data\")"
   ]
  },
  {
   "cell_type": "code",
   "execution_count": null,
   "metadata": {},
   "outputs": [],
   "source": [
    "cursor.fetchall()"
   ]
  },
  {
   "cell_type": "code",
   "execution_count": null,
   "metadata": {},
   "outputs": [],
   "source": [
    "cursor = mydb.cursor()"
   ]
  },
  {
   "cell_type": "code",
   "execution_count": null,
   "metadata": {},
   "outputs": [],
   "source": [
    "import csv\n",
    "with open('glass.data', 'r') as my_data:\n",
    "    next(my_data)\n",
    "    csv_data = csv.reader(my_data, delimiter = \"\\n\")\n",
    "    print(csv_data) #cursor is at the very start of the data file so using next will allow us to start from the first row\n",
    "    for i in enumerate(csv_data):\n",
    "        for j in i[1]:\n",
    "            cursor.execute('INSERT INTO inu_data.glass_data VALUES({data})'.format(data=(j)))\n",
    "    print(\"All values have been inserted sucessfully!\")"
   ]
  },
  {
   "cell_type": "code",
   "execution_count": null,
   "metadata": {},
   "outputs": [],
   "source": [
    "mydb.commit()"
   ]
  },
  {
   "cell_type": "code",
   "execution_count": null,
   "metadata": {},
   "outputs": [],
   "source": [
    "import mysql.connector as connection\n",
    "import pandas as pandas\n",
    "\n",
    "try:\n",
    "\n",
    "    mydb = connection.connect(host=\"localhost\", database='Student234', user=\"root\", passwd=\"hassi\", use_pure=True)\n",
    "    # check if the connection is established\n",
    "    print(mydb.is_connected())\n",
    "    query = \"Select * from Test1;\"\n",
    "    result_dataFrame = pandas.read_sql(query,mydb)\n",
    "    print(result_dataFrame)\n",
    "\n",
    "    mydb.close()  # close the connection\n",
    "\n",
    "except Exception as e:\n",
    "    #mydb.close()\n",
    "    print(str(e))"
   ]
  },
  {
   "cell_type": "code",
   "execution_count": null,
   "metadata": {},
   "outputs": [],
   "source": [
    "import csv\n",
    "with open('glass.data',\"r\") as data :\n",
    "    next(data)\n",
    "    data_csv = csv.reader(data, delimiter= \"\\n\")\n",
    "    print(data_csv)\n",
    "    for i in enumerate(data_csv):\n",
    "        print(i)"
   ]
  },
  {
   "cell_type": "code",
   "execution_count": null,
   "metadata": {},
   "outputs": [],
   "source": [
    "\n",
    "mydb = connection.connect(host=\"localhost\", database='db_name', user=\"root\", passwd=\"mysql\", use_pure=True)\n",
    "cur= mydb.cursor()\n",
    "with open('glass.data',\"r\") as data :\n",
    "    next(data)\n",
    "    data_csv = csv.reader(data, delimiter= \"\\n\")\n",
    "    print(data_csv)\n",
    "    for i in enumerate(data_csv):\n",
    "        print(i)\n",
    "        for j in i[1] :\n",
    "            print(type(j))\n",
    "            cur.execute('insert into db_name.GlassData1 values ({data})'.format(data=(j)))\n",
    "    print(\"all the data inserted \")\n",
    "mydb.commit()"
   ]
  }
 ],
 "metadata": {
  "hide_input": false,
  "kernelspec": {
   "display_name": "Python 3",
   "language": "python",
   "name": "python3"
  },
  "language_info": {
   "codemirror_mode": {
    "name": "ipython",
    "version": 3
   },
   "file_extension": ".py",
   "mimetype": "text/x-python",
   "name": "python",
   "nbconvert_exporter": "python",
   "pygments_lexer": "ipython3",
   "version": "3.7.6"
  }
 },
 "nbformat": 4,
 "nbformat_minor": 4
}
